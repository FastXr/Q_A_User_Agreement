{
  "nbformat": 4,
  "nbformat_minor": 0,
  "metadata": {
    "colab": {
      "name": "QuestionAnswering.ipynb",
      "provenance": [],
      "collapsed_sections": []
    },
    "kernelspec": {
      "name": "python3",
      "display_name": "Python 3"
    },
    "widgets": {
      "application/vnd.jupyter.widget-state+json": {
        "f4c015a77a2c489bb51448d236493d2a": {
          "model_module": "@jupyter-widgets/controls",
          "model_name": "HBoxModel",
          "state": {
            "_view_name": "HBoxView",
            "_dom_classes": [],
            "_model_name": "HBoxModel",
            "_view_module": "@jupyter-widgets/controls",
            "_model_module_version": "1.5.0",
            "_view_count": null,
            "_view_module_version": "1.5.0",
            "box_style": "",
            "layout": "IPY_MODEL_035f721c67b843a6b6e12481ae28eddb",
            "_model_module": "@jupyter-widgets/controls",
            "children": [
              "IPY_MODEL_a98f7d4201ca4dcc9c1c76ccd7a590d4",
              "IPY_MODEL_a90a4b313a824862aee7de495ef129bf"
            ]
          }
        },
        "035f721c67b843a6b6e12481ae28eddb": {
          "model_module": "@jupyter-widgets/base",
          "model_name": "LayoutModel",
          "state": {
            "_view_name": "LayoutView",
            "grid_template_rows": null,
            "right": null,
            "justify_content": null,
            "_view_module": "@jupyter-widgets/base",
            "overflow": null,
            "_model_module_version": "1.2.0",
            "_view_count": null,
            "flex_flow": null,
            "width": null,
            "min_width": null,
            "border": null,
            "align_items": null,
            "bottom": null,
            "_model_module": "@jupyter-widgets/base",
            "top": null,
            "grid_column": null,
            "overflow_y": null,
            "overflow_x": null,
            "grid_auto_flow": null,
            "grid_area": null,
            "grid_template_columns": null,
            "flex": null,
            "_model_name": "LayoutModel",
            "justify_items": null,
            "grid_row": null,
            "max_height": null,
            "align_content": null,
            "visibility": null,
            "align_self": null,
            "height": null,
            "min_height": null,
            "padding": null,
            "grid_auto_rows": null,
            "grid_gap": null,
            "max_width": null,
            "order": null,
            "_view_module_version": "1.2.0",
            "grid_template_areas": null,
            "object_position": null,
            "object_fit": null,
            "grid_auto_columns": null,
            "margin": null,
            "display": null,
            "left": null
          }
        },
        "a98f7d4201ca4dcc9c1c76ccd7a590d4": {
          "model_module": "@jupyter-widgets/controls",
          "model_name": "FloatProgressModel",
          "state": {
            "_view_name": "ProgressView",
            "style": "IPY_MODEL_54e0e2a2733f4f2a89d8f138095334eb",
            "_dom_classes": [],
            "description": "Downloading: 100%",
            "_model_name": "FloatProgressModel",
            "bar_style": "success",
            "max": 443,
            "_view_module": "@jupyter-widgets/controls",
            "_model_module_version": "1.5.0",
            "value": 443,
            "_view_count": null,
            "_view_module_version": "1.5.0",
            "orientation": "horizontal",
            "min": 0,
            "description_tooltip": null,
            "_model_module": "@jupyter-widgets/controls",
            "layout": "IPY_MODEL_9b936a9330f84402b4dc5248847ac365"
          }
        },
        "a90a4b313a824862aee7de495ef129bf": {
          "model_module": "@jupyter-widgets/controls",
          "model_name": "HTMLModel",
          "state": {
            "_view_name": "HTMLView",
            "style": "IPY_MODEL_d82fec232e30465c952f3486173ae5f7",
            "_dom_classes": [],
            "description": "",
            "_model_name": "HTMLModel",
            "placeholder": "​",
            "_view_module": "@jupyter-widgets/controls",
            "_model_module_version": "1.5.0",
            "value": " 443/443 [00:00&lt;00:00, 1.27kB/s]",
            "_view_count": null,
            "_view_module_version": "1.5.0",
            "description_tooltip": null,
            "_model_module": "@jupyter-widgets/controls",
            "layout": "IPY_MODEL_0aa2f36da2ed4540a5271af5ad02588a"
          }
        },
        "54e0e2a2733f4f2a89d8f138095334eb": {
          "model_module": "@jupyter-widgets/controls",
          "model_name": "ProgressStyleModel",
          "state": {
            "_view_name": "StyleView",
            "_model_name": "ProgressStyleModel",
            "description_width": "initial",
            "_view_module": "@jupyter-widgets/base",
            "_model_module_version": "1.5.0",
            "_view_count": null,
            "_view_module_version": "1.2.0",
            "bar_color": null,
            "_model_module": "@jupyter-widgets/controls"
          }
        },
        "9b936a9330f84402b4dc5248847ac365": {
          "model_module": "@jupyter-widgets/base",
          "model_name": "LayoutModel",
          "state": {
            "_view_name": "LayoutView",
            "grid_template_rows": null,
            "right": null,
            "justify_content": null,
            "_view_module": "@jupyter-widgets/base",
            "overflow": null,
            "_model_module_version": "1.2.0",
            "_view_count": null,
            "flex_flow": null,
            "width": null,
            "min_width": null,
            "border": null,
            "align_items": null,
            "bottom": null,
            "_model_module": "@jupyter-widgets/base",
            "top": null,
            "grid_column": null,
            "overflow_y": null,
            "overflow_x": null,
            "grid_auto_flow": null,
            "grid_area": null,
            "grid_template_columns": null,
            "flex": null,
            "_model_name": "LayoutModel",
            "justify_items": null,
            "grid_row": null,
            "max_height": null,
            "align_content": null,
            "visibility": null,
            "align_self": null,
            "height": null,
            "min_height": null,
            "padding": null,
            "grid_auto_rows": null,
            "grid_gap": null,
            "max_width": null,
            "order": null,
            "_view_module_version": "1.2.0",
            "grid_template_areas": null,
            "object_position": null,
            "object_fit": null,
            "grid_auto_columns": null,
            "margin": null,
            "display": null,
            "left": null
          }
        },
        "d82fec232e30465c952f3486173ae5f7": {
          "model_module": "@jupyter-widgets/controls",
          "model_name": "DescriptionStyleModel",
          "state": {
            "_view_name": "StyleView",
            "_model_name": "DescriptionStyleModel",
            "description_width": "",
            "_view_module": "@jupyter-widgets/base",
            "_model_module_version": "1.5.0",
            "_view_count": null,
            "_view_module_version": "1.2.0",
            "_model_module": "@jupyter-widgets/controls"
          }
        },
        "0aa2f36da2ed4540a5271af5ad02588a": {
          "model_module": "@jupyter-widgets/base",
          "model_name": "LayoutModel",
          "state": {
            "_view_name": "LayoutView",
            "grid_template_rows": null,
            "right": null,
            "justify_content": null,
            "_view_module": "@jupyter-widgets/base",
            "overflow": null,
            "_model_module_version": "1.2.0",
            "_view_count": null,
            "flex_flow": null,
            "width": null,
            "min_width": null,
            "border": null,
            "align_items": null,
            "bottom": null,
            "_model_module": "@jupyter-widgets/base",
            "top": null,
            "grid_column": null,
            "overflow_y": null,
            "overflow_x": null,
            "grid_auto_flow": null,
            "grid_area": null,
            "grid_template_columns": null,
            "flex": null,
            "_model_name": "LayoutModel",
            "justify_items": null,
            "grid_row": null,
            "max_height": null,
            "align_content": null,
            "visibility": null,
            "align_self": null,
            "height": null,
            "min_height": null,
            "padding": null,
            "grid_auto_rows": null,
            "grid_gap": null,
            "max_width": null,
            "order": null,
            "_view_module_version": "1.2.0",
            "grid_template_areas": null,
            "object_position": null,
            "object_fit": null,
            "grid_auto_columns": null,
            "margin": null,
            "display": null,
            "left": null
          }
        },
        "00931089c0ea430788578035a8d81bf0": {
          "model_module": "@jupyter-widgets/controls",
          "model_name": "HBoxModel",
          "state": {
            "_view_name": "HBoxView",
            "_dom_classes": [],
            "_model_name": "HBoxModel",
            "_view_module": "@jupyter-widgets/controls",
            "_model_module_version": "1.5.0",
            "_view_count": null,
            "_view_module_version": "1.5.0",
            "box_style": "",
            "layout": "IPY_MODEL_9ec3cc2aea0c49c7994c50f2f47e3406",
            "_model_module": "@jupyter-widgets/controls",
            "children": [
              "IPY_MODEL_ecdbb0212ab148d3a3ce685793bf7fc0",
              "IPY_MODEL_c27e52df6bf24562948a9f9c8acb78a3"
            ]
          }
        },
        "9ec3cc2aea0c49c7994c50f2f47e3406": {
          "model_module": "@jupyter-widgets/base",
          "model_name": "LayoutModel",
          "state": {
            "_view_name": "LayoutView",
            "grid_template_rows": null,
            "right": null,
            "justify_content": null,
            "_view_module": "@jupyter-widgets/base",
            "overflow": null,
            "_model_module_version": "1.2.0",
            "_view_count": null,
            "flex_flow": null,
            "width": null,
            "min_width": null,
            "border": null,
            "align_items": null,
            "bottom": null,
            "_model_module": "@jupyter-widgets/base",
            "top": null,
            "grid_column": null,
            "overflow_y": null,
            "overflow_x": null,
            "grid_auto_flow": null,
            "grid_area": null,
            "grid_template_columns": null,
            "flex": null,
            "_model_name": "LayoutModel",
            "justify_items": null,
            "grid_row": null,
            "max_height": null,
            "align_content": null,
            "visibility": null,
            "align_self": null,
            "height": null,
            "min_height": null,
            "padding": null,
            "grid_auto_rows": null,
            "grid_gap": null,
            "max_width": null,
            "order": null,
            "_view_module_version": "1.2.0",
            "grid_template_areas": null,
            "object_position": null,
            "object_fit": null,
            "grid_auto_columns": null,
            "margin": null,
            "display": null,
            "left": null
          }
        },
        "ecdbb0212ab148d3a3ce685793bf7fc0": {
          "model_module": "@jupyter-widgets/controls",
          "model_name": "FloatProgressModel",
          "state": {
            "_view_name": "ProgressView",
            "style": "IPY_MODEL_7b40769f3d2340b49a2c767f852bea24",
            "_dom_classes": [],
            "description": "Downloading: 100%",
            "_model_name": "FloatProgressModel",
            "bar_style": "success",
            "max": 231508,
            "_view_module": "@jupyter-widgets/controls",
            "_model_module_version": "1.5.0",
            "value": 231508,
            "_view_count": null,
            "_view_module_version": "1.5.0",
            "orientation": "horizontal",
            "min": 0,
            "description_tooltip": null,
            "_model_module": "@jupyter-widgets/controls",
            "layout": "IPY_MODEL_e253c91de0c34c898c54590fed480bb2"
          }
        },
        "c27e52df6bf24562948a9f9c8acb78a3": {
          "model_module": "@jupyter-widgets/controls",
          "model_name": "HTMLModel",
          "state": {
            "_view_name": "HTMLView",
            "style": "IPY_MODEL_5e9682cf93334f9b8a7a041594a3dba4",
            "_dom_classes": [],
            "description": "",
            "_model_name": "HTMLModel",
            "placeholder": "​",
            "_view_module": "@jupyter-widgets/controls",
            "_model_module_version": "1.5.0",
            "value": " 232k/232k [00:00&lt;00:00, 2.27MB/s]",
            "_view_count": null,
            "_view_module_version": "1.5.0",
            "description_tooltip": null,
            "_model_module": "@jupyter-widgets/controls",
            "layout": "IPY_MODEL_f02f4f1ca4b34ce7ba6ef4a324a78bc9"
          }
        },
        "7b40769f3d2340b49a2c767f852bea24": {
          "model_module": "@jupyter-widgets/controls",
          "model_name": "ProgressStyleModel",
          "state": {
            "_view_name": "StyleView",
            "_model_name": "ProgressStyleModel",
            "description_width": "initial",
            "_view_module": "@jupyter-widgets/base",
            "_model_module_version": "1.5.0",
            "_view_count": null,
            "_view_module_version": "1.2.0",
            "bar_color": null,
            "_model_module": "@jupyter-widgets/controls"
          }
        },
        "e253c91de0c34c898c54590fed480bb2": {
          "model_module": "@jupyter-widgets/base",
          "model_name": "LayoutModel",
          "state": {
            "_view_name": "LayoutView",
            "grid_template_rows": null,
            "right": null,
            "justify_content": null,
            "_view_module": "@jupyter-widgets/base",
            "overflow": null,
            "_model_module_version": "1.2.0",
            "_view_count": null,
            "flex_flow": null,
            "width": null,
            "min_width": null,
            "border": null,
            "align_items": null,
            "bottom": null,
            "_model_module": "@jupyter-widgets/base",
            "top": null,
            "grid_column": null,
            "overflow_y": null,
            "overflow_x": null,
            "grid_auto_flow": null,
            "grid_area": null,
            "grid_template_columns": null,
            "flex": null,
            "_model_name": "LayoutModel",
            "justify_items": null,
            "grid_row": null,
            "max_height": null,
            "align_content": null,
            "visibility": null,
            "align_self": null,
            "height": null,
            "min_height": null,
            "padding": null,
            "grid_auto_rows": null,
            "grid_gap": null,
            "max_width": null,
            "order": null,
            "_view_module_version": "1.2.0",
            "grid_template_areas": null,
            "object_position": null,
            "object_fit": null,
            "grid_auto_columns": null,
            "margin": null,
            "display": null,
            "left": null
          }
        },
        "5e9682cf93334f9b8a7a041594a3dba4": {
          "model_module": "@jupyter-widgets/controls",
          "model_name": "DescriptionStyleModel",
          "state": {
            "_view_name": "StyleView",
            "_model_name": "DescriptionStyleModel",
            "description_width": "",
            "_view_module": "@jupyter-widgets/base",
            "_model_module_version": "1.5.0",
            "_view_count": null,
            "_view_module_version": "1.2.0",
            "_model_module": "@jupyter-widgets/controls"
          }
        },
        "f02f4f1ca4b34ce7ba6ef4a324a78bc9": {
          "model_module": "@jupyter-widgets/base",
          "model_name": "LayoutModel",
          "state": {
            "_view_name": "LayoutView",
            "grid_template_rows": null,
            "right": null,
            "justify_content": null,
            "_view_module": "@jupyter-widgets/base",
            "overflow": null,
            "_model_module_version": "1.2.0",
            "_view_count": null,
            "flex_flow": null,
            "width": null,
            "min_width": null,
            "border": null,
            "align_items": null,
            "bottom": null,
            "_model_module": "@jupyter-widgets/base",
            "top": null,
            "grid_column": null,
            "overflow_y": null,
            "overflow_x": null,
            "grid_auto_flow": null,
            "grid_area": null,
            "grid_template_columns": null,
            "flex": null,
            "_model_name": "LayoutModel",
            "justify_items": null,
            "grid_row": null,
            "max_height": null,
            "align_content": null,
            "visibility": null,
            "align_self": null,
            "height": null,
            "min_height": null,
            "padding": null,
            "grid_auto_rows": null,
            "grid_gap": null,
            "max_width": null,
            "order": null,
            "_view_module_version": "1.2.0",
            "grid_template_areas": null,
            "object_position": null,
            "object_fit": null,
            "grid_auto_columns": null,
            "margin": null,
            "display": null,
            "left": null
          }
        },
        "a9a7d41481e14c898ec5fb6eb6a587c6": {
          "model_module": "@jupyter-widgets/controls",
          "model_name": "HBoxModel",
          "state": {
            "_view_name": "HBoxView",
            "_dom_classes": [],
            "_model_name": "HBoxModel",
            "_view_module": "@jupyter-widgets/controls",
            "_model_module_version": "1.5.0",
            "_view_count": null,
            "_view_module_version": "1.5.0",
            "box_style": "",
            "layout": "IPY_MODEL_f313ad80c09642578c4fe5c28bf4254c",
            "_model_module": "@jupyter-widgets/controls",
            "children": [
              "IPY_MODEL_25e09d45da874e04b3cda2be65717865",
              "IPY_MODEL_0474fed9af5f4a7b94f0f8d14ba6a5b6"
            ]
          }
        },
        "f313ad80c09642578c4fe5c28bf4254c": {
          "model_module": "@jupyter-widgets/base",
          "model_name": "LayoutModel",
          "state": {
            "_view_name": "LayoutView",
            "grid_template_rows": null,
            "right": null,
            "justify_content": null,
            "_view_module": "@jupyter-widgets/base",
            "overflow": null,
            "_model_module_version": "1.2.0",
            "_view_count": null,
            "flex_flow": null,
            "width": null,
            "min_width": null,
            "border": null,
            "align_items": null,
            "bottom": null,
            "_model_module": "@jupyter-widgets/base",
            "top": null,
            "grid_column": null,
            "overflow_y": null,
            "overflow_x": null,
            "grid_auto_flow": null,
            "grid_area": null,
            "grid_template_columns": null,
            "flex": null,
            "_model_name": "LayoutModel",
            "justify_items": null,
            "grid_row": null,
            "max_height": null,
            "align_content": null,
            "visibility": null,
            "align_self": null,
            "height": null,
            "min_height": null,
            "padding": null,
            "grid_auto_rows": null,
            "grid_gap": null,
            "max_width": null,
            "order": null,
            "_view_module_version": "1.2.0",
            "grid_template_areas": null,
            "object_position": null,
            "object_fit": null,
            "grid_auto_columns": null,
            "margin": null,
            "display": null,
            "left": null
          }
        },
        "25e09d45da874e04b3cda2be65717865": {
          "model_module": "@jupyter-widgets/controls",
          "model_name": "FloatProgressModel",
          "state": {
            "_view_name": "ProgressView",
            "style": "IPY_MODEL_ed7447d4471a4411af2ba3adc408ca3b",
            "_dom_classes": [],
            "description": "Downloading: 100%",
            "_model_name": "FloatProgressModel",
            "bar_style": "success",
            "max": 1340675298,
            "_view_module": "@jupyter-widgets/controls",
            "_model_module_version": "1.5.0",
            "value": 1340675298,
            "_view_count": null,
            "_view_module_version": "1.5.0",
            "orientation": "horizontal",
            "min": 0,
            "description_tooltip": null,
            "_model_module": "@jupyter-widgets/controls",
            "layout": "IPY_MODEL_3cd226db3d084d2f8fa493b5a6bda66c"
          }
        },
        "0474fed9af5f4a7b94f0f8d14ba6a5b6": {
          "model_module": "@jupyter-widgets/controls",
          "model_name": "HTMLModel",
          "state": {
            "_view_name": "HTMLView",
            "style": "IPY_MODEL_edb2140a36eb4faea37b606c062cabca",
            "_dom_classes": [],
            "description": "",
            "_model_name": "HTMLModel",
            "placeholder": "​",
            "_view_module": "@jupyter-widgets/controls",
            "_model_module_version": "1.5.0",
            "value": " 1.34G/1.34G [00:29&lt;00:00, 45.6MB/s]",
            "_view_count": null,
            "_view_module_version": "1.5.0",
            "description_tooltip": null,
            "_model_module": "@jupyter-widgets/controls",
            "layout": "IPY_MODEL_6a74696c905d499a8485286787a407c3"
          }
        },
        "ed7447d4471a4411af2ba3adc408ca3b": {
          "model_module": "@jupyter-widgets/controls",
          "model_name": "ProgressStyleModel",
          "state": {
            "_view_name": "StyleView",
            "_model_name": "ProgressStyleModel",
            "description_width": "initial",
            "_view_module": "@jupyter-widgets/base",
            "_model_module_version": "1.5.0",
            "_view_count": null,
            "_view_module_version": "1.2.0",
            "bar_color": null,
            "_model_module": "@jupyter-widgets/controls"
          }
        },
        "3cd226db3d084d2f8fa493b5a6bda66c": {
          "model_module": "@jupyter-widgets/base",
          "model_name": "LayoutModel",
          "state": {
            "_view_name": "LayoutView",
            "grid_template_rows": null,
            "right": null,
            "justify_content": null,
            "_view_module": "@jupyter-widgets/base",
            "overflow": null,
            "_model_module_version": "1.2.0",
            "_view_count": null,
            "flex_flow": null,
            "width": null,
            "min_width": null,
            "border": null,
            "align_items": null,
            "bottom": null,
            "_model_module": "@jupyter-widgets/base",
            "top": null,
            "grid_column": null,
            "overflow_y": null,
            "overflow_x": null,
            "grid_auto_flow": null,
            "grid_area": null,
            "grid_template_columns": null,
            "flex": null,
            "_model_name": "LayoutModel",
            "justify_items": null,
            "grid_row": null,
            "max_height": null,
            "align_content": null,
            "visibility": null,
            "align_self": null,
            "height": null,
            "min_height": null,
            "padding": null,
            "grid_auto_rows": null,
            "grid_gap": null,
            "max_width": null,
            "order": null,
            "_view_module_version": "1.2.0",
            "grid_template_areas": null,
            "object_position": null,
            "object_fit": null,
            "grid_auto_columns": null,
            "margin": null,
            "display": null,
            "left": null
          }
        },
        "edb2140a36eb4faea37b606c062cabca": {
          "model_module": "@jupyter-widgets/controls",
          "model_name": "DescriptionStyleModel",
          "state": {
            "_view_name": "StyleView",
            "_model_name": "DescriptionStyleModel",
            "description_width": "",
            "_view_module": "@jupyter-widgets/base",
            "_model_module_version": "1.5.0",
            "_view_count": null,
            "_view_module_version": "1.2.0",
            "_model_module": "@jupyter-widgets/controls"
          }
        },
        "6a74696c905d499a8485286787a407c3": {
          "model_module": "@jupyter-widgets/base",
          "model_name": "LayoutModel",
          "state": {
            "_view_name": "LayoutView",
            "grid_template_rows": null,
            "right": null,
            "justify_content": null,
            "_view_module": "@jupyter-widgets/base",
            "overflow": null,
            "_model_module_version": "1.2.0",
            "_view_count": null,
            "flex_flow": null,
            "width": null,
            "min_width": null,
            "border": null,
            "align_items": null,
            "bottom": null,
            "_model_module": "@jupyter-widgets/base",
            "top": null,
            "grid_column": null,
            "overflow_y": null,
            "overflow_x": null,
            "grid_auto_flow": null,
            "grid_area": null,
            "grid_template_columns": null,
            "flex": null,
            "_model_name": "LayoutModel",
            "justify_items": null,
            "grid_row": null,
            "max_height": null,
            "align_content": null,
            "visibility": null,
            "align_self": null,
            "height": null,
            "min_height": null,
            "padding": null,
            "grid_auto_rows": null,
            "grid_gap": null,
            "max_width": null,
            "order": null,
            "_view_module_version": "1.2.0",
            "grid_template_areas": null,
            "object_position": null,
            "object_fit": null,
            "grid_auto_columns": null,
            "margin": null,
            "display": null,
            "left": null
          }
        }
      }
    },
    "accelerator": "GPU"
  },
  "cells": [
    {
      "cell_type": "code",
      "metadata": {
        "id": "tCpbSZr3RamE",
        "colab_type": "code",
        "outputId": "827a5c1d-8cd5-437c-d831-39c3795a750b",
        "colab": {
          "base_uri": "https://localhost:8080/",
          "height": 136
        }
      },
      "source": [
        "!git clone https://github.com/huggingface/transformers"
      ],
      "execution_count": 0,
      "outputs": [
        {
          "output_type": "stream",
          "text": [
            "Cloning into 'transformers'...\n",
            "remote: Enumerating objects: 3, done.\u001b[K\n",
            "remote: Counting objects:  33% (1/3)\u001b[K\rremote: Counting objects:  66% (2/3)\u001b[K\rremote: Counting objects: 100% (3/3)\u001b[K\rremote: Counting objects: 100% (3/3), done.\u001b[K\n",
            "remote: Compressing objects: 100% (3/3), done.\u001b[K\n",
            "remote: Total 28263 (delta 0), reused 1 (delta 0), pack-reused 28260\u001b[K\n",
            "Receiving objects: 100% (28263/28263), 25.61 MiB | 25.68 MiB/s, done.\n",
            "Resolving deltas: 100% (19642/19642), done.\n"
          ],
          "name": "stdout"
        }
      ]
    },
    {
      "cell_type": "code",
      "metadata": {
        "id": "Lz2nHOwiRfTl",
        "colab_type": "code",
        "outputId": "66af5ef1-873a-4e95-bfaa-5f8fd3c62730",
        "colab": {
          "base_uri": "https://localhost:8080/",
          "height": 629
        }
      },
      "source": [
        "%cd transformers\n",
        "!pip install ."
      ],
      "execution_count": 0,
      "outputs": [
        {
          "output_type": "stream",
          "text": [
            "/content/transformers\n",
            "Processing /content/transformers\n",
            "Requirement already satisfied: numpy in /usr/local/lib/python3.6/dist-packages (from transformers==2.11.0) (1.18.4)\n",
            "Collecting tokenizers==0.7.0\n",
            "\u001b[?25l  Downloading https://files.pythonhosted.org/packages/14/e5/a26eb4716523808bb0a799fcfdceb6ebf77a18169d9591b2f46a9adb87d9/tokenizers-0.7.0-cp36-cp36m-manylinux1_x86_64.whl (3.8MB)\n",
            "\u001b[K     |████████████████████████████████| 3.8MB 2.8MB/s \n",
            "\u001b[?25hRequirement already satisfied: packaging in /usr/local/lib/python3.6/dist-packages (from transformers==2.11.0) (20.4)\n",
            "Requirement already satisfied: filelock in /usr/local/lib/python3.6/dist-packages (from transformers==2.11.0) (3.0.12)\n",
            "Requirement already satisfied: requests in /usr/local/lib/python3.6/dist-packages (from transformers==2.11.0) (2.23.0)\n",
            "Requirement already satisfied: tqdm>=4.27 in /usr/local/lib/python3.6/dist-packages (from transformers==2.11.0) (4.41.1)\n",
            "Requirement already satisfied: regex!=2019.12.17 in /usr/local/lib/python3.6/dist-packages (from transformers==2.11.0) (2019.12.20)\n",
            "Collecting sentencepiece\n",
            "\u001b[?25l  Downloading https://files.pythonhosted.org/packages/d4/a4/d0a884c4300004a78cca907a6ff9a5e9fe4f090f5d95ab341c53d28cbc58/sentencepiece-0.1.91-cp36-cp36m-manylinux1_x86_64.whl (1.1MB)\n",
            "\u001b[K     |████████████████████████████████| 1.1MB 29.7MB/s \n",
            "\u001b[?25hCollecting sacremoses\n",
            "\u001b[?25l  Downloading https://files.pythonhosted.org/packages/7d/34/09d19aff26edcc8eb2a01bed8e98f13a1537005d31e95233fd48216eed10/sacremoses-0.0.43.tar.gz (883kB)\n",
            "\u001b[K     |████████████████████████████████| 890kB 30.5MB/s \n",
            "\u001b[?25hRequirement already satisfied: dataclasses in /usr/local/lib/python3.6/dist-packages (from transformers==2.11.0) (0.7)\n",
            "Requirement already satisfied: pyparsing>=2.0.2 in /usr/local/lib/python3.6/dist-packages (from packaging->transformers==2.11.0) (2.4.7)\n",
            "Requirement already satisfied: six in /usr/local/lib/python3.6/dist-packages (from packaging->transformers==2.11.0) (1.12.0)\n",
            "Requirement already satisfied: certifi>=2017.4.17 in /usr/local/lib/python3.6/dist-packages (from requests->transformers==2.11.0) (2020.4.5.1)\n",
            "Requirement already satisfied: chardet<4,>=3.0.2 in /usr/local/lib/python3.6/dist-packages (from requests->transformers==2.11.0) (3.0.4)\n",
            "Requirement already satisfied: idna<3,>=2.5 in /usr/local/lib/python3.6/dist-packages (from requests->transformers==2.11.0) (2.9)\n",
            "Requirement already satisfied: urllib3!=1.25.0,!=1.25.1,<1.26,>=1.21.1 in /usr/local/lib/python3.6/dist-packages (from requests->transformers==2.11.0) (1.24.3)\n",
            "Requirement already satisfied: click in /usr/local/lib/python3.6/dist-packages (from sacremoses->transformers==2.11.0) (7.1.2)\n",
            "Requirement already satisfied: joblib in /usr/local/lib/python3.6/dist-packages (from sacremoses->transformers==2.11.0) (0.15.1)\n",
            "Building wheels for collected packages: transformers, sacremoses\n",
            "  Building wheel for transformers (setup.py) ... \u001b[?25l\u001b[?25hdone\n",
            "  Created wheel for transformers: filename=transformers-2.11.0-cp36-none-any.whl size=666257 sha256=686e44fe4a95e859194ee113f95a5f5e42b9d0b2be382b46d9e005eefbaea346\n",
            "  Stored in directory: /tmp/pip-ephem-wheel-cache-mc6p3o_r/wheels/23/19/dd/2561a4e47240cf6b307729d58e56f8077dd0c698f5992216cf\n",
            "  Building wheel for sacremoses (setup.py) ... \u001b[?25l\u001b[?25hdone\n",
            "  Created wheel for sacremoses: filename=sacremoses-0.0.43-cp36-none-any.whl size=893260 sha256=b8c0159f011fc6114b3aa91fe36b74c3b1ba98c20f56229c3cc4a4195d528832\n",
            "  Stored in directory: /root/.cache/pip/wheels/29/3c/fd/7ce5c3f0666dab31a50123635e6fb5e19ceb42ce38d4e58f45\n",
            "Successfully built transformers sacremoses\n",
            "Installing collected packages: tokenizers, sentencepiece, sacremoses, transformers\n",
            "Successfully installed sacremoses-0.0.43 sentencepiece-0.1.91 tokenizers-0.7.0 transformers-2.11.0\n"
          ],
          "name": "stdout"
        }
      ]
    },
    {
      "cell_type": "code",
      "metadata": {
        "id": "3XLMgwUSRjXw",
        "colab_type": "code",
        "outputId": "460b0bed-af33-4ab9-de18-4da18b0c830f",
        "colab": {
          "base_uri": "https://localhost:8080/",
          "height": 122
        }
      },
      "source": [
        "from google.colab import drive\n",
        "drive.mount('/content/gdrive')"
      ],
      "execution_count": 0,
      "outputs": [
        {
          "output_type": "stream",
          "text": [
            "Go to this URL in a browser: https://accounts.google.com/o/oauth2/auth?client_id=947318989803-6bn6qk8qdgf4n4g3pfee6491hc0brc4i.apps.googleusercontent.com&redirect_uri=urn%3aietf%3awg%3aoauth%3a2.0%3aoob&response_type=code&scope=email%20https%3a%2f%2fwww.googleapis.com%2fauth%2fdocs.test%20https%3a%2f%2fwww.googleapis.com%2fauth%2fdrive%20https%3a%2f%2fwww.googleapis.com%2fauth%2fdrive.photos.readonly%20https%3a%2f%2fwww.googleapis.com%2fauth%2fpeopleapi.readonly\n",
            "\n",
            "Enter your authorization code:\n",
            "··········\n",
            "Mounted at /content/gdrive\n"
          ],
          "name": "stdout"
        }
      ]
    },
    {
      "cell_type": "code",
      "metadata": {
        "id": "3RTlLcU5uYh2",
        "colab_type": "code",
        "colab": {}
      },
      "source": [
        "import numpy as np\n",
        "import pandas as pd"
      ],
      "execution_count": 0,
      "outputs": []
    },
    {
      "cell_type": "code",
      "metadata": {
        "id": "gymca8VsuYnX",
        "colab_type": "code",
        "outputId": "0cdb9b30-0159-476a-936f-2b4ca4f020d7",
        "colab": {
          "base_uri": "https://localhost:8080/",
          "height": 34
        }
      },
      "source": [
        "%cd /content/gdrive/My\\ Drive/Colab\\ Notebooks/NLP_Project_Folder/data/Microsoft_Challenge"
      ],
      "execution_count": 0,
      "outputs": [
        {
          "output_type": "stream",
          "text": [
            "/content/gdrive/My Drive/Colab Notebooks/NLP_Project_Folder/data/Microsoft_Challenge\n"
          ],
          "name": "stdout"
        }
      ]
    },
    {
      "cell_type": "code",
      "metadata": {
        "id": "oH4RYU0SuYqH",
        "colab_type": "code",
        "outputId": "5d350cba-75b7-4529-8e94-636617de31dd",
        "colab": {
          "base_uri": "https://localhost:8080/",
          "height": 51
        }
      },
      "source": [
        "!ls"
      ],
      "execution_count": 0,
      "outputs": [
        {
          "output_type": "stream",
          "text": [
            "mc500.dev.ans  mc500.test.ans  mc500.train.ans\n",
            "mc500.dev.tsv  mc500.test.tsv  mc500.train.tsv\n"
          ],
          "name": "stdout"
        }
      ]
    },
    {
      "cell_type": "code",
      "metadata": {
        "id": "BjL4Hrppm9Wu",
        "colab_type": "code",
        "colab": {}
      },
      "source": [
        ""
      ],
      "execution_count": 0,
      "outputs": []
    },
    {
      "cell_type": "markdown",
      "metadata": {
        "id": "S1RUYKttoSjD",
        "colab_type": "text"
      },
      "source": [
        "Paper : https://www.aclweb.org/anthology/D13-1020.pdf\n",
        "\n"
      ]
    },
    {
      "cell_type": "markdown",
      "metadata": {
        "id": "LS3xd70FoPDR",
        "colab_type": "text"
      },
      "source": [
        "Dataset : https://github.com/mcobzarenco/mctest/tree/master/data/MCTest"
      ]
    },
    {
      "cell_type": "code",
      "metadata": {
        "id": "zQi24JYC5vKz",
        "colab_type": "code",
        "colab": {}
      },
      "source": [
        "df_train_answers = pd.read_csv('mc500.train.ans', sep=\"\\t\", header=None)"
      ],
      "execution_count": 0,
      "outputs": []
    },
    {
      "cell_type": "code",
      "metadata": {
        "id": "_ZC1YKgg54Wc",
        "colab_type": "code",
        "outputId": "45c2fd31-d3f6-4a9c-c3ab-93534c3f37a1",
        "colab": {
          "base_uri": "https://localhost:8080/",
          "height": 204
        }
      },
      "source": [
        "df_train_answers.head()"
      ],
      "execution_count": 0,
      "outputs": [
        {
          "output_type": "execute_result",
          "data": {
            "text/html": [
              "<div>\n",
              "<style scoped>\n",
              "    .dataframe tbody tr th:only-of-type {\n",
              "        vertical-align: middle;\n",
              "    }\n",
              "\n",
              "    .dataframe tbody tr th {\n",
              "        vertical-align: top;\n",
              "    }\n",
              "\n",
              "    .dataframe thead th {\n",
              "        text-align: right;\n",
              "    }\n",
              "</style>\n",
              "<table border=\"1\" class=\"dataframe\">\n",
              "  <thead>\n",
              "    <tr style=\"text-align: right;\">\n",
              "      <th></th>\n",
              "      <th>0</th>\n",
              "      <th>1</th>\n",
              "      <th>2</th>\n",
              "      <th>3</th>\n",
              "    </tr>\n",
              "  </thead>\n",
              "  <tbody>\n",
              "    <tr>\n",
              "      <th>0</th>\n",
              "      <td>B</td>\n",
              "      <td>C</td>\n",
              "      <td>C</td>\n",
              "      <td>D</td>\n",
              "    </tr>\n",
              "    <tr>\n",
              "      <th>1</th>\n",
              "      <td>B</td>\n",
              "      <td>D</td>\n",
              "      <td>D</td>\n",
              "      <td>B</td>\n",
              "    </tr>\n",
              "    <tr>\n",
              "      <th>2</th>\n",
              "      <td>D</td>\n",
              "      <td>D</td>\n",
              "      <td>D</td>\n",
              "      <td>B</td>\n",
              "    </tr>\n",
              "    <tr>\n",
              "      <th>3</th>\n",
              "      <td>A</td>\n",
              "      <td>B</td>\n",
              "      <td>C</td>\n",
              "      <td>C</td>\n",
              "    </tr>\n",
              "    <tr>\n",
              "      <th>4</th>\n",
              "      <td>C</td>\n",
              "      <td>C</td>\n",
              "      <td>D</td>\n",
              "      <td>A</td>\n",
              "    </tr>\n",
              "  </tbody>\n",
              "</table>\n",
              "</div>"
            ],
            "text/plain": [
              "   0  1  2  3\n",
              "0  B  C  C  D\n",
              "1  B  D  D  B\n",
              "2  D  D  D  B\n",
              "3  A  B  C  C\n",
              "4  C  C  D  A"
            ]
          },
          "metadata": {
            "tags": []
          },
          "execution_count": 9
        }
      ]
    },
    {
      "cell_type": "code",
      "metadata": {
        "id": "0W3RPZpe2_7B",
        "colab_type": "code",
        "colab": {}
      },
      "source": [
        "df_train = pd.read_csv('mc500.train.tsv', sep=\"\\t\", header=None)"
      ],
      "execution_count": 0,
      "outputs": []
    },
    {
      "cell_type": "code",
      "metadata": {
        "id": "pkeCidg7GCGR",
        "colab_type": "code",
        "outputId": "e869b6a3-4a99-4753-8ddd-875c965966b5",
        "colab": {
          "base_uri": "https://localhost:8080/",
          "height": 34
        }
      },
      "source": [
        "df_train.shape"
      ],
      "execution_count": 0,
      "outputs": [
        {
          "output_type": "execute_result",
          "data": {
            "text/plain": [
              "(300, 23)"
            ]
          },
          "metadata": {
            "tags": []
          },
          "execution_count": 34
        }
      ]
    },
    {
      "cell_type": "code",
      "metadata": {
        "id": "wJ_kcc_TX4Q7",
        "colab_type": "code",
        "outputId": "a919fe5c-5591-4339-e6b9-dac9bc8e1766",
        "colab": {
          "base_uri": "https://localhost:8080/",
          "height": 578
        }
      },
      "source": [
        "df_train.head()"
      ],
      "execution_count": 0,
      "outputs": [
        {
          "output_type": "execute_result",
          "data": {
            "text/html": [
              "<div>\n",
              "<style scoped>\n",
              "    .dataframe tbody tr th:only-of-type {\n",
              "        vertical-align: middle;\n",
              "    }\n",
              "\n",
              "    .dataframe tbody tr th {\n",
              "        vertical-align: top;\n",
              "    }\n",
              "\n",
              "    .dataframe thead th {\n",
              "        text-align: right;\n",
              "    }\n",
              "</style>\n",
              "<table border=\"1\" class=\"dataframe\">\n",
              "  <thead>\n",
              "    <tr style=\"text-align: right;\">\n",
              "      <th></th>\n",
              "      <th>0</th>\n",
              "      <th>1</th>\n",
              "      <th>2</th>\n",
              "      <th>3</th>\n",
              "      <th>4</th>\n",
              "      <th>5</th>\n",
              "      <th>6</th>\n",
              "      <th>7</th>\n",
              "      <th>8</th>\n",
              "      <th>9</th>\n",
              "      <th>10</th>\n",
              "      <th>11</th>\n",
              "      <th>12</th>\n",
              "      <th>13</th>\n",
              "      <th>14</th>\n",
              "      <th>15</th>\n",
              "      <th>16</th>\n",
              "      <th>17</th>\n",
              "      <th>18</th>\n",
              "      <th>19</th>\n",
              "      <th>20</th>\n",
              "      <th>21</th>\n",
              "      <th>22</th>\n",
              "    </tr>\n",
              "  </thead>\n",
              "  <tbody>\n",
              "    <tr>\n",
              "      <th>0</th>\n",
              "      <td>mc500.train.0</td>\n",
              "      <td>Author: 2778399758;Work Time(s): 839;Qual. sco...</td>\n",
              "      <td>Alyssa got to the beach after a long trip. She...</td>\n",
              "      <td>one: What city is Alyssa in?</td>\n",
              "      <td>trip</td>\n",
              "      <td>Miami</td>\n",
              "      <td>Atlanta</td>\n",
              "      <td>beach</td>\n",
              "      <td>one: Why did Alyssa go to Miami?</td>\n",
              "      <td>swim</td>\n",
              "      <td>travel</td>\n",
              "      <td>visit friends</td>\n",
              "      <td>laying out</td>\n",
              "      <td>multiple: How many friends does Alyssa have?</td>\n",
              "      <td>1</td>\n",
              "      <td>2</td>\n",
              "      <td>3</td>\n",
              "      <td>4</td>\n",
              "      <td>multiple: What did Alyssa eat at the restaurant?</td>\n",
              "      <td>steak</td>\n",
              "      <td>soup</td>\n",
              "      <td>salad</td>\n",
              "      <td>catfish</td>\n",
              "    </tr>\n",
              "    <tr>\n",
              "      <th>1</th>\n",
              "      <td>mc500.train.1</td>\n",
              "      <td>Author: 3208685851;Work Time(s): 836;Qual. sco...</td>\n",
              "      <td>One morning, Elena woke up, much like she did ...</td>\n",
              "      <td>multiple: What is the very first thing Elena d...</td>\n",
              "      <td>she says hello to the tree</td>\n",
              "      <td>she throws the covers on the floor</td>\n",
              "      <td>she says hello to the sun</td>\n",
              "      <td>she gets out of bed</td>\n",
              "      <td>one: At what time of day does this story take ...</td>\n",
              "      <td>Before the tree</td>\n",
              "      <td>At the end of the day</td>\n",
              "      <td>The story doesn't say</td>\n",
              "      <td>Morning</td>\n",
              "      <td>multiple: What happened to Mr. Fish in the end?</td>\n",
              "      <td>He got put back in the bowl, but he was dead</td>\n",
              "      <td>He started swimming around in Elena's hand</td>\n",
              "      <td>He got put in a new bowl</td>\n",
              "      <td>He got put back in his bowl and started swimmi...</td>\n",
              "      <td>multiple: What was missing from the fish bowl?</td>\n",
              "      <td>the rocks</td>\n",
              "      <td>Mr. Fish</td>\n",
              "      <td>the water</td>\n",
              "      <td>the tiny castle</td>\n",
              "    </tr>\n",
              "    <tr>\n",
              "      <th>2</th>\n",
              "      <td>mc500.train.2</td>\n",
              "      <td>Author: 3165469218;Work Time(s): 1546;Qual. sc...</td>\n",
              "      <td>Billy was like a king on the school yard. A ki...</td>\n",
              "      <td>multiple: Billy was like a...</td>\n",
              "      <td>prince</td>\n",
              "      <td>dummy</td>\n",
              "      <td>queen</td>\n",
              "      <td>king</td>\n",
              "      <td>multiple: Who was Billy?</td>\n",
              "      <td>The skinny kid</td>\n",
              "      <td>A teacher</td>\n",
              "      <td>A little kid</td>\n",
              "      <td>The big kid</td>\n",
              "      <td>one: What did the boy grab from his home?</td>\n",
              "      <td>a rock</td>\n",
              "      <td>a bench</td>\n",
              "      <td>a tree</td>\n",
              "      <td>Fishing line</td>\n",
              "      <td>one: What did the boy call Billy?</td>\n",
              "      <td>A dork</td>\n",
              "      <td>Dummy</td>\n",
              "      <td>Mr.Stupid Kid</td>\n",
              "      <td>A bully</td>\n",
              "    </tr>\n",
              "    <tr>\n",
              "      <th>3</th>\n",
              "      <td>mc500.train.3</td>\n",
              "      <td>Author: 3323630398;Work Time(s): 712;Qual. sco...</td>\n",
              "      <td>Billy went to the farm to buy some beef for hi...</td>\n",
              "      <td>one: What did Billy buy at the farm?</td>\n",
              "      <td>Beef</td>\n",
              "      <td>Chicken</td>\n",
              "      <td>Cows</td>\n",
              "      <td>Fence</td>\n",
              "      <td>multiple: What color were the spots on the cows?</td>\n",
              "      <td>Blue</td>\n",
              "      <td>Brown</td>\n",
              "      <td>White</td>\n",
              "      <td>Black</td>\n",
              "      <td>multiple: How many chickens were on the purple...</td>\n",
              "      <td>Ten</td>\n",
              "      <td>Six</td>\n",
              "      <td>Five</td>\n",
              "      <td>Four</td>\n",
              "      <td>one: How did Billy's brother feel after dinner?</td>\n",
              "      <td>Strange</td>\n",
              "      <td>Scared</td>\n",
              "      <td>Happy</td>\n",
              "      <td>Sad</td>\n",
              "    </tr>\n",
              "    <tr>\n",
              "      <th>4</th>\n",
              "      <td>mc500.train.4</td>\n",
              "      <td>Author: 646501657;Work Time(s): 743;Qual. scor...</td>\n",
              "      <td>The road to Grandpa's house was long and windi...</td>\n",
              "      <td>multiple: Why did Grandpa answer the door?</td>\n",
              "      <td>Because he saw the insects</td>\n",
              "      <td>Because Jimmy was walking</td>\n",
              "      <td>Because Jimmy knocked</td>\n",
              "      <td>Because the trip took a long time</td>\n",
              "      <td>one: Where do Jimmy and his Grandpa sit?</td>\n",
              "      <td>On insects</td>\n",
              "      <td>Outside</td>\n",
              "      <td>By the fire</td>\n",
              "      <td>On the path</td>\n",
              "      <td>multiple: What was Jimmy's favorite insect in ...</td>\n",
              "      <td>Beetle</td>\n",
              "      <td>Lady bug</td>\n",
              "      <td>Moth</td>\n",
              "      <td>Lightning bug</td>\n",
              "      <td>one: Why doesn't Jimmy collect more moths?</td>\n",
              "      <td>They're difficult to catch and they take up a ...</td>\n",
              "      <td>They're his favorite</td>\n",
              "      <td>He doesn't like them</td>\n",
              "      <td>Grandpa doesn't like them</td>\n",
              "    </tr>\n",
              "  </tbody>\n",
              "</table>\n",
              "</div>"
            ],
            "text/plain": [
              "              0   ...                         22\n",
              "0  mc500.train.0  ...                    catfish\n",
              "1  mc500.train.1  ...            the tiny castle\n",
              "2  mc500.train.2  ...                    A bully\n",
              "3  mc500.train.3  ...                        Sad\n",
              "4  mc500.train.4  ...  Grandpa doesn't like them\n",
              "\n",
              "[5 rows x 23 columns]"
            ]
          },
          "metadata": {
            "tags": []
          },
          "execution_count": 11
        }
      ]
    },
    {
      "cell_type": "code",
      "metadata": {
        "id": "wNcRCeQc3rrI",
        "colab_type": "code",
        "colab": {}
      },
      "source": [
        "df_train.columns = ['id', 'Author', 'Text', 'Q1', 'Q1A', 'Q1B', 'Q1C', 'Q1D', 'Q2', 'Q2A', 'Q2B', 'Q2C', 'Q2D', 'Q3', 'Q3A', 'Q3B', 'Q3C', 'Q3D', 'Q4', 'Q4A', 'Q4B', 'Q4C', 'Q4D']"
      ],
      "execution_count": 0,
      "outputs": []
    },
    {
      "cell_type": "code",
      "metadata": {
        "id": "QOFrnyffXcBQ",
        "colab_type": "code",
        "colab": {}
      },
      "source": [
        "import difflib\n",
        "def similarity_calculator(x, y):\n",
        "    seq = difflib.SequenceMatcher(None, x, y)  # Gestalt Pattern Matching\n",
        "    d = seq.ratio()*100\n",
        "    return d "
      ],
      "execution_count": 0,
      "outputs": []
    },
    {
      "cell_type": "code",
      "metadata": {
        "id": "OaFZujKjVtfK",
        "colab_type": "code",
        "colab": {}
      },
      "source": [
        "from transformers import  pipeline, QuestionAnsweringPipeline, AutoTokenizer, AutoModelForQuestionAnswering, AutoModel, AutoModelWithLMHead"
      ],
      "execution_count": 0,
      "outputs": []
    },
    {
      "cell_type": "code",
      "metadata": {
        "id": "fRwY3L12dz1j",
        "colab_type": "code",
        "outputId": "28259d9d-effb-42c2-ff6f-e3c115fc0b79",
        "colab": {
          "base_uri": "https://localhost:8080/",
          "height": 164,
          "referenced_widgets": [
            "f4c015a77a2c489bb51448d236493d2a",
            "035f721c67b843a6b6e12481ae28eddb",
            "a98f7d4201ca4dcc9c1c76ccd7a590d4",
            "a90a4b313a824862aee7de495ef129bf",
            "54e0e2a2733f4f2a89d8f138095334eb",
            "9b936a9330f84402b4dc5248847ac365",
            "d82fec232e30465c952f3486173ae5f7",
            "0aa2f36da2ed4540a5271af5ad02588a",
            "00931089c0ea430788578035a8d81bf0",
            "9ec3cc2aea0c49c7994c50f2f47e3406",
            "ecdbb0212ab148d3a3ce685793bf7fc0",
            "c27e52df6bf24562948a9f9c8acb78a3",
            "7b40769f3d2340b49a2c767f852bea24",
            "e253c91de0c34c898c54590fed480bb2",
            "5e9682cf93334f9b8a7a041594a3dba4",
            "f02f4f1ca4b34ce7ba6ef4a324a78bc9",
            "a9a7d41481e14c898ec5fb6eb6a587c6",
            "f313ad80c09642578c4fe5c28bf4254c",
            "25e09d45da874e04b3cda2be65717865",
            "0474fed9af5f4a7b94f0f8d14ba6a5b6",
            "ed7447d4471a4411af2ba3adc408ca3b",
            "3cd226db3d084d2f8fa493b5a6bda66c",
            "edb2140a36eb4faea37b606c062cabca",
            "6a74696c905d499a8485286787a407c3"
          ]
        }
      },
      "source": [
        "tokenizer = AutoTokenizer.from_pretrained(\"bert-large-uncased-whole-word-masking-finetuned-squad\")\n",
        "\n",
        "model = AutoModelForQuestionAnswering.from_pretrained(\"bert-large-uncased-whole-word-masking-finetuned-squad\")\n",
        "# ktrapeznikov/albert-xlarge-v2-squad-v2"
      ],
      "execution_count": 0,
      "outputs": [
        {
          "output_type": "display_data",
          "data": {
            "application/vnd.jupyter.widget-view+json": {
              "model_id": "f4c015a77a2c489bb51448d236493d2a",
              "version_minor": 0,
              "version_major": 2
            },
            "text/plain": [
              "HBox(children=(FloatProgress(value=0.0, description='Downloading', max=443.0, style=ProgressStyle(description_…"
            ]
          },
          "metadata": {
            "tags": []
          }
        },
        {
          "output_type": "stream",
          "text": [
            "\n"
          ],
          "name": "stdout"
        },
        {
          "output_type": "display_data",
          "data": {
            "application/vnd.jupyter.widget-view+json": {
              "model_id": "00931089c0ea430788578035a8d81bf0",
              "version_minor": 0,
              "version_major": 2
            },
            "text/plain": [
              "HBox(children=(FloatProgress(value=0.0, description='Downloading', max=231508.0, style=ProgressStyle(descripti…"
            ]
          },
          "metadata": {
            "tags": []
          }
        },
        {
          "output_type": "stream",
          "text": [
            "\n"
          ],
          "name": "stdout"
        },
        {
          "output_type": "display_data",
          "data": {
            "application/vnd.jupyter.widget-view+json": {
              "model_id": "a9a7d41481e14c898ec5fb6eb6a587c6",
              "version_minor": 0,
              "version_major": 2
            },
            "text/plain": [
              "HBox(children=(FloatProgress(value=0.0, description='Downloading', max=1340675298.0, style=ProgressStyle(descr…"
            ]
          },
          "metadata": {
            "tags": []
          }
        },
        {
          "output_type": "stream",
          "text": [
            "\n"
          ],
          "name": "stdout"
        }
      ]
    },
    {
      "cell_type": "markdown",
      "metadata": {
        "id": "hd13oS8NqiiG",
        "colab_type": "text"
      },
      "source": [
        "\n",
        "{\n",
        "  \"architectures\": [\n",
        "    \"BertForQuestionAnswering\"\n",
        "  ],\n",
        "  \"attention_probs_dropout_prob\": 0.1,\n",
        "  \"hidden_act\": \"gelu\",\n",
        "  \"hidden_dropout_prob\": 0.1,\n",
        "  \"hidden_size\": 1024,\n",
        "  \"initializer_range\": 0.02,\n",
        "  \"intermediate_size\": 4096,\n",
        "  \"layer_norm_eps\": 1e-12,\n",
        "  \"max_position_embeddings\": 512,\n",
        "  \"model_type\": \"bert\",\n",
        "  \"num_attention_heads\": 16,\n",
        "  \"num_hidden_layers\": 24,\n",
        "  \"pad_token_id\": 0,\n",
        "  \"type_vocab_size\": 2,\n",
        "  \"vocab_size\": 30522\n",
        "}"
      ]
    },
    {
      "cell_type": "markdown",
      "metadata": {
        "id": "ufbEgksVoboS",
        "colab_type": "text"
      },
      "source": [
        "Bert Model Paper: https://arxiv.org/pdf/1810.04805.pdf"
      ]
    },
    {
      "cell_type": "code",
      "metadata": {
        "id": "rrp92XE6cheN",
        "colab_type": "code",
        "colab": {}
      },
      "source": [
        "nlp_qa = pipeline('question-answering',model=model, tokenizer=tokenizer)"
      ],
      "execution_count": 0,
      "outputs": []
    },
    {
      "cell_type": "code",
      "metadata": {
        "id": "IfsXpTsobY_F",
        "colab_type": "code",
        "outputId": "45a0ac34-933c-4418-958a-65eaa5ce79c2",
        "colab": {
          "base_uri": "https://localhost:8080/",
          "height": 34
        }
      },
      "source": [
        "nlp_qa(context='Hugging Face is a French company based in New-York.', question='Where is based Hugging Face ?')"
      ],
      "execution_count": 0,
      "outputs": [
        {
          "output_type": "execute_result",
          "data": {
            "text/plain": [
              "{'answer': 'New-York.', 'end': 50, 'score': 0.985049841952879, 'start': 42}"
            ]
          },
          "metadata": {
            "tags": []
          },
          "execution_count": 23
        }
      ]
    },
    {
      "cell_type": "code",
      "metadata": {
        "id": "v3JzbUAvWyiB",
        "colab_type": "code",
        "colab": {}
      },
      "source": [
        "typical = ['A', 'B', 'C', 'D']"
      ],
      "execution_count": 0,
      "outputs": []
    },
    {
      "cell_type": "code",
      "metadata": {
        "id": "5eUxMoB9YU6X",
        "colab_type": "code",
        "colab": {}
      },
      "source": [
        "total = 0\n",
        "correct = 0"
      ],
      "execution_count": 0,
      "outputs": []
    },
    {
      "cell_type": "code",
      "metadata": {
        "id": "mW7fb-fp6Pox",
        "colab_type": "code",
        "colab": {}
      },
      "source": [
        "for (index1, data_text), (index2, data_answer) in zip(df_train.iterrows(), df_train_answers.iterrows()):\n",
        "    id_ = data_text['id'].split('.')[-1]\n",
        "    text = data_text['Text']\n",
        "    # summary = summarizer(text)[0]['summary_text']\n",
        "    for i in range(1,5):\n",
        "        q = data_text['Q{}'.format(i)].split(': ')[-1]\n",
        "        q_ans = data_text['Q{i}{correct}'.format(i=i, correct=data_answer[i-1])]\n",
        "        possible_answers = [data_text['Q{num}{s}'.format(num=i, s=s )] for s in typical]\n",
        "        model_answer = nlp_qa(context=text, question=q)['answer']\n",
        "        score_list=[]\n",
        "        for p in possible_answers:\n",
        "            score_list.append(similarity_calculator(model_answer, p))\n",
        "        last_answer = possible_answers[score_list.index(max(score_list))]\n",
        "        if last_answer == q_ans:\n",
        "            correct += 1\n",
        "        total += 1"
      ],
      "execution_count": 0,
      "outputs": []
    },
    {
      "cell_type": "code",
      "metadata": {
        "id": "Y8rs4kQmi5DD",
        "colab_type": "code",
        "outputId": "6c8ed37d-dc29-48f9-e98f-2bdc6e4e3768",
        "colab": {
          "base_uri": "https://localhost:8080/",
          "height": 34
        }
      },
      "source": [
        "print((correct/total)*100)"
      ],
      "execution_count": 0,
      "outputs": [
        {
          "output_type": "stream",
          "text": [
            "70.16666666666667\n"
          ],
          "name": "stdout"
        }
      ]
    },
    {
      "cell_type": "code",
      "metadata": {
        "id": "cejOxHkfgthm",
        "colab_type": "code",
        "colab": {}
      },
      "source": [
        "\"\"\"Alyssa got to the beach after a long trip. She's from Charlotte. She traveled from Atlanta. She's now in Miami. She went to Miami to visit some friends. But she wanted some time to herself at the beach, so she went there first. After going swimming and laying out, she went to her friend Ellen's house. Ellen greeted Alyssa and they both had some lemonade to drink. Alyssa called her friends Kristin and Rachel to meet at Ellen's house. The girls traded stories and caught up on their lives. It was a happy time for everyone. The girls went to a restaurant for dinner. The restaurant had a special on catfish. Alyssa enjoyed the restaurant's special. Ellen ordered a salad. Kristin had soup. Rachel had a steak. After eating, the ladies went back to Ellen's house to have fun. They had lots of fun. They stayed the night because they were tired. Alyssa was happy to spend time with her friends again.\n",
        "Question: What city is Alyssa in?\n",
        "Correct Answer: Miami\n",
        "['trip', 'Miami', 'Atlanta', 'beach']\n",
        "Model Answer: Miami.\n",
        "Question: Why did Alyssa go to Miami?\n",
        "Correct Answer: visit friends\n",
        "['swim', 'travel', 'visit friends', 'laying out']\n",
        "Model Answer: to visit some friends.\n",
        "Question: How many friends does Alyssa have?\n",
        "Correct Answer: 3\n",
        "['1', '2', '3', '4']\n",
        "Model Answer: Kristin and Rachel\n",
        "Question: What did Alyssa eat at the restaurant?\n",
        "Correct Answer: catfish\n",
        "['steak', 'soup', 'salad', 'catfish']\n",
        "Model Answer: catfish.\"\"\""
      ],
      "execution_count": 0,
      "outputs": []
    },
    {
      "cell_type": "code",
      "metadata": {
        "id": "NwwNScfHBTaF",
        "colab_type": "code",
        "outputId": "f1ef0bc7-f272-437d-8698-f3af9759c93a",
        "colab": {
          "base_uri": "https://localhost:8080/",
          "height": 34
        }
      },
      "source": [
        "%cd /content/gdrive/My\\ Drive/Colab\\ Notebooks/NLP_Project_Folder/data"
      ],
      "execution_count": 0,
      "outputs": [
        {
          "output_type": "stream",
          "text": [
            "/content/gdrive/My Drive/Colab Notebooks/NLP_Project_Folder/data\n"
          ],
          "name": "stdout"
        }
      ]
    },
    {
      "cell_type": "code",
      "metadata": {
        "id": "O-d256h6BJA0",
        "colab_type": "code",
        "outputId": "7322b70f-9f29-4187-f0f5-3777828c57c1",
        "colab": {
          "base_uri": "https://localhost:8080/",
          "height": 34
        }
      },
      "source": [
        "!ls"
      ],
      "execution_count": 0,
      "outputs": [
        {
          "output_type": "stream",
          "text": [
            "Microsoft_Challenge  Natural_Questions\tnetflix.txt  Swag_Data\ttwitter.txt\n"
          ],
          "name": "stdout"
        }
      ]
    },
    {
      "cell_type": "code",
      "metadata": {
        "id": "JlxdyIl9Bt3y",
        "colab_type": "code",
        "colab": {}
      },
      "source": [
        "with open('netflix.txt') as f:\n",
        "    context = f.read().replace('\\n','') "
      ],
      "execution_count": 0,
      "outputs": []
    },
    {
      "cell_type": "code",
      "metadata": {
        "id": "uA2ckfYeBzkp",
        "colab_type": "code",
        "outputId": "1076c857-62ad-4b93-9e4f-9ce7cfe34132",
        "colab": {
          "base_uri": "https://localhost:8080/",
          "height": 54
        }
      },
      "source": [
        "context"
      ],
      "execution_count": 0,
      "outputs": [
        {
          "output_type": "execute_result",
          "data": {
            "text/plain": [
              "'Netflix provides a personalized subscription service that allows our members to access movies and TV shows (“Netflix content”) streamed over the Internet to certain Internet-connected TVs, computers and other devices (\"Netflix ready devices\").These Terms of Use govern your use of our service. As used in these Terms of Use, \"Netflix service\", \"our service\" or \"the service\" means the personalized service provided by Netflix for discovering and watching Netflix content, including all features and functionalities, recommendations and reviews, the website, and user interfaces, as well as all content and software associated with our service.Membership1.1. Your Netflix membership will continue until terminated. To use the Netflix service you must have Internet access and a Netflix ready device, and provide us with one or more Payment Methods. “Payment Method” means a current, valid, accepted method of payment, as may be updated from time to time, and which may include payment through your account with a third party. Unless you cancel your membership before your billing date, you authorize us to charge the membership fee for the next billing cycle to your Payment Method (see \"Cancellation\" below).1.2. We may offer a number of membership plans, including special promotional plans or memberships offered by third parties in conjunction with the provision of their own products and services. We are not responsible for the products and services provided by such third parties. Some membership plans may have differing conditions and limitations, which will be disclosed at your sign-up or in other communications made available to you. You can find specific details regarding your Netflix membership by visiting our website and clicking on the \"Account\" link available at the top of the pages of the Netflix website under your profile name. Free Trials2.1. Your Netflix membership may start with a free trial. The duration of the free trial period of your membership will be specified during sign-up and is intended to allow new members and certain former members to try the service.2.2. Free trial eligibility is determined by Netflix at its sole discretion and we may limit eligibility or duration to prevent free trial abuse. We reserve the right to revoke the free trial and put your account on hold in the event that we determine that you are not eligible. Members of households with an existing or recent Netflix membership are not eligible. We may use information such as device ID, method of payment or an account email address used with an existing or recent Netflix membership to determine eligibility. For combinations with other offers, restrictions may apply.2.3. We will charge the membership fee for the next billing cycle to your Payment Method at the end of the free trial period unless you cancel your membership prior to the end of the free trial period. To view the membership price and end date of your free trial period, visit our website and click the \"Billing details\" link on the \"Account\" page. Billing and Cancellation3.1. Billing Cycle. The membership fee for the Netflix service and any other charges you may incur in connection with your use of the service, such as taxes and possible transaction fees, will be charged to your Payment Method on the specific billing date indicated on your \"Account\" page. The length of your billing cycle will depend on the type of subscription that you choose when you sign-up for the service. In some cases your payment date may change, for example if your Payment Method has not successfully settled or if your paid membership began on a day not contained in a given month. Visit our website and click on the \"Billing details\" link on the \"Account\" page to see your next payment date. We may authorize your Payment Method in anticipation of membership or service-related charges through various methods, including authorizing it for up to approximately one month of service as soon as you register. In some instances, your available balance or credit limit may be reduced to reflect the authorization during your free trial period.3.2. Payment Methods. To use the Netflix service you must provide one or more Payment Methods. You authorize us to charge any Payment Method associated to your account in case your primary Payment Method is declined or no longer available to us for payment of your subscription fee. You remain responsible for any uncollected amounts. If a payment is not successfully settled, due to expiration, insufficient funds, or otherwise, and you do not cancel your account, we may suspend your access to the service until we have successfully charged a valid Payment Method. For some Payment Methods, the issuer may charge you certain fees, such as foreign transaction fees or other fees relating to the processing of your Payment Method. Local tax charges may vary depending on the Payment Method used. Check with your Payment Method service provider for details.3.3. Updating your Payment Methods. You can update your Payment Methods by going to the \"Account\" page. We may also update your Payment Methods using information provided by the payment service providers. Following any update, you authorize us to continue to charge the applicable Payment Method(s).3.4. Cancellation. You can cancel your Netflix membership at any time, and you will continue to have access to the Netflix service through the end of your billing period. To the extent permitted by the applicable law, payments are non-refundable and we do not provide refunds or credits for any partial membership periods or unwatched Netflix content. To cancel, go to the \"Account\" page and follow the instructions for cancellation. If you cancel your membership, your account will automatically close at the end of your current billing period. To see when your account will close, click \"Billing details\" on the \"Account\" page. If you signed up for Netflix using your account with a third party as a Payment Method and wish to cancel your Netflix membership, you may need to do so through such third party, for example by visiting your account with the applicable third party and turning off auto-renew, or unsubscribing from the Netflix service through that third party. You may also find billing information about your Netflix membership by visiting your account with the applicable third party.3.5. Changes to the Price and Subscription Plans. We may change our subscription plans and the price of our service from time to time; however, any price changes or changes to your subscription plans will apply no earlier than 30 days following notice to you. Netflix Service4.1. You must be 18 years of age, or the age of majority in your province, territory or country, to become a member of the Netflix service. Minors may only use the service under the supervision of an adult.4.2. The Netflix service and any content viewed through the service are for your personal and non-commercial use only and may not be shared with individuals beyond your household. During your Netflix membership we grant you a limited, non-exclusive, non-transferable right to access the Netflix service and view Netflix content. Except for the foregoing, no right, title or interest shall be transferred to you. You agree not to use the service for public performances.4.3. You may view the Netflix content primarily within the country in which you have established your account and only in geographic locations where we offer our service and have licensed such content. The content that may be available to watch will vary by geographic location and will change from time to time. The number of devices on which you may simultaneously watch depends on your chosen subscription plan and is specified on the \"Account\" page.4.4. The Netflix service, including the content library, is regularly updated. In addition, we continually test various aspects of our service, including our website, user interfaces, promotional features and availability of Netflix content. You can turn off tests participation at any time by visiting the \"Account\" page and changing the \"Test participation\" settings.4.5. Some Netflix content is available for temporary download and offline viewing on certain supported devices (“Offline Titles”). Limitations apply, including restrictions on the number of Offline Titles per account, the maximum number of devices that can contain Offline Titles, the time period within which you will need to begin viewing Offline Titles and how long the Offline Titles will remain accessible. Some Offline Titles may not be playable in certain countries and if you go online in a country where you would not be able to stream that Offline Title, the Offline Title will not be playable while you are in that country.4.6. You agree to use the Netflix service, including all features and functionalities associated therewith, in accordance with all applicable laws, rules and regulations, or other restrictions on use of the service or content therein. You agree not to archive, reproduce, distribute, modify, display, perform, publish, license, create derivative works from, offer for sale, or use (except as explicitly authorized in these Terms of Use) content and information contained on or obtained from or through the Netflix service. You also agree not to: circumvent, remove, alter, deactivate, degrade or thwart any of the content protections in the Netflix service; use any robot, spider, scraper or other automated means to access the Netflix service; decompile, reverse engineer or disassemble any software or other products or processes accessible through the Netflix service; insert any code or product or manipulate the content of the Netflix service in any way; or use any data mining, data gathering or extraction method. In addition, you agree not to upload, post, e-mail or otherwise send or transmit any material designed to interrupt, destroy or limit the functionality of any computer software or hardware or telecommunications equipment associated with the Netflix service, including any software viruses or any other computer code, files or programs. We may terminate or restrict your use of our service if you violate these Terms of Use or are engaged in illegal or fraudulent use of the service.4.7. The quality of the display of the Netflix content may vary from device to device, and may be affected by a variety of factors, such as your location, the bandwidth available through and/or speed of your Internet connection. HD, Ultra HD and HDR availability is subject to your Internet service and device capabilities. Not all content is available in all formats, such as HD, Ultra HD or HDR and not all subscription plans allow you to receive content in all formats. Default playback settings on cellular networks exclude HD, Ultra HD and HDR content. The minimum connection speed for SD quality is 0.5 Mbps; however, we recommend a faster connection for improved video quality. A download speed of at least 5.0 Mbps per stream is recommended to receive HD content (defined as a resolution of 720p or higher). A download speed of at least 25.0 Mbps per stream is recommended to receive Ultra HD (defined as a resolution of 1080p or higher) and HDR content. You are responsible for all Internet access charges. Please check with your Internet provider for information on possible Internet data usage charges. The time it takes to begin watching Netflix content will vary based on a number of factors, including your location, available bandwidth at the time, the content you have selected and the configuration of your Netflix ready device.4.8. Netflix software is developed by, or for, Netflix and is designed to enable viewing of Netflix content through Netflix ready devices. This software may vary by device and medium, and functionalities and features may also differ between devices. You acknowledge that the use of the service may require third party software that is subject to third party licenses. You agree that you may automatically receive updated versions of the Netflix and related third-party software. Passwords and Account Access. The member who created the Netflix account and whose Payment Method is charged (the \"Account Owner\") has access and control over the Netflix account and the Netflix ready devices that are used to access our service and is responsible for any activity that occurs through the Netflix account. To maintain control over the account and to prevent anyone from accessing the account (which would include information on viewing history for the account), the Account Owner should maintain control over the Netflix ready devices that are used to access the service and not reveal the password or details of the Payment Method associated with the account to anyone. You are responsible for updating and maintaining the accuracy of the information you provide to us relating to your account. We can terminate your account or place your account on hold in order to protect you, Netflix or our partners from identity theft or other fraudulent activity. Warranties and Limitations on Liability. The Netflix service is provided \"as is\" and without warranty or condition. In particular, our service may not be uninterrupted or error-free. You waive all special, indirect and consequential damages against us. These terms will not limit any non-waivable warranties or consumer protection rights that you may be entitled to under the laws of your country of residence. Class Action Waiver. WHERE PERMITTED UNDER THE APPLICABLE LAW, YOU AND NETFLIX AGREE THAT EACH MAY BRING CLAIMS AGAINST THE OTHER ONLY IN YOUR OR ITS INDIVIDUAL CAPACITY, AND NOT AS A PLAINTIFF OR CLASS MEMBER IN ANY PURPORTED CLASS OR REPRESENTATIVE PROCEEDING. Further, where permitted under the applicable law, unless both you and Netflix agree otherwise, the court may not consolidate more than one person\\'s claims with your claims, and may not otherwise preside over any form of a representative or class proceeding. Miscellaneous8.1. Governing Law. These Terms of Use shall be governed by and construed in accordance with the laws of the Netherlands.8.2. Unsolicited Materials. Netflix does not accept unsolicited materials or ideas for Netflix content and is not responsible for the similarity of any of its content or programming in any media to materials or ideas transmitted to Netflix.8.3. Customer Support. To find more information about our service and its features or if you need assistance with your account, please visit the Netflix Help Center on our website. In certain instances, Customer Service may best be able to assist you by using a remote access support tool through which we have full access to your computer. If you do not want us to have this access, you should not consent to support through the remote access tool, and we will assist you through other means. In the event of any conflict between these Terms of Use and information provided by Customer Support or other portions of our website, these Terms of Use will control.8.4. Survival. If any provision or provisions of these Terms of Use shall be held to be invalid, illegal, or unenforceable, the validity, legality and enforceability of the remaining provisions shall remain in full force and effect.8.5. Changes to Terms of Use and Assignment. Netflix may, from time to time, change these Terms of Use. We will notify you at least 30 days before such changes apply to you. We may assign or transfer our agreement with you including our associated rights and obligations at any time and you agree to cooperate with us in connection with such an assignment or transfer.8.6. Electronic Communications. We will send you information relating to your account (e.g. payment authorizations, invoices, changes in password or Payment Method, confirmation messages, notices) in electronic form only, for example via emails to your email address provided during registration.'"
            ]
          },
          "metadata": {
            "tags": []
          },
          "execution_count": 9
        }
      ]
    },
    {
      "cell_type": "code",
      "metadata": {
        "id": "8jD8qC-2COeG",
        "colab_type": "code",
        "outputId": "f8de6deb-5f8c-45c4-f06d-d1ee4437f242",
        "colab": {
          "base_uri": "https://localhost:8080/",
          "height": 68
        }
      },
      "source": [
        "%%time\n",
        "nlp_qa(context=context, question='When can I cancel Netflix?')['answer']"
      ],
      "execution_count": 0,
      "outputs": [
        {
          "output_type": "stream",
          "text": [
            "CPU times: user 5min 4s, sys: 719 ms, total: 5min 5s\n",
            "Wall time: 5min 6s\n"
          ],
          "name": "stdout"
        },
        {
          "output_type": "execute_result",
          "data": {
            "text/plain": [
              "'at any time,'"
            ]
          },
          "metadata": {
            "tags": []
          },
          "execution_count": 28
        }
      ]
    },
    {
      "cell_type": "code",
      "metadata": {
        "id": "c9sY9hStZVel",
        "colab_type": "code",
        "outputId": "2a368f16-6adb-46d6-a39a-307551a49f96",
        "colab": {
          "base_uri": "https://localhost:8080/",
          "height": 68
        }
      },
      "source": [
        "%%time\n",
        "nlp_qa(context=context, question='When should I cancel Netflix?')['answer']"
      ],
      "execution_count": 0,
      "outputs": [
        {
          "output_type": "stream",
          "text": [
            "CPU times: user 4min 40s, sys: 677 ms, total: 4min 41s\n",
            "Wall time: 4min 42s\n"
          ],
          "name": "stdout"
        },
        {
          "output_type": "execute_result",
          "data": {
            "text/plain": [
              "'before your billing date,'"
            ]
          },
          "metadata": {
            "tags": []
          },
          "execution_count": 30
        }
      ]
    },
    {
      "cell_type": "code",
      "metadata": {
        "id": "fbTBDpk_Kevv",
        "colab_type": "code",
        "outputId": "3df1bc31-6b37-43ef-c107-beb9329555d1",
        "colab": {
          "base_uri": "https://localhost:8080/",
          "height": 68
        }
      },
      "source": [
        "%%time\n",
        "nlp_qa(context=context, question='How old should I be to use Netflix?')['answer']"
      ],
      "execution_count": 0,
      "outputs": [
        {
          "output_type": "stream",
          "text": [
            "CPU times: user 4min 45s, sys: 686 ms, total: 4min 46s\n",
            "Wall time: 4min 47s\n"
          ],
          "name": "stdout"
        },
        {
          "output_type": "execute_result",
          "data": {
            "text/plain": [
              "'18'"
            ]
          },
          "metadata": {
            "tags": []
          },
          "execution_count": 29
        }
      ]
    },
    {
      "cell_type": "code",
      "metadata": {
        "id": "IbC85aO-LXT-",
        "colab_type": "code",
        "outputId": "b2ad9d62-0ebc-4b12-b454-412312f852ec",
        "colab": {
          "base_uri": "https://localhost:8080/",
          "height": 68
        }
      },
      "source": [
        "%%time \n",
        "nlp_qa(context=context, question='What happens if I am not older than 18 ?')['answer']"
      ],
      "execution_count": 0,
      "outputs": [
        {
          "output_type": "stream",
          "text": [
            "CPU times: user 5min 4s, sys: 696 ms, total: 5min 5s\n",
            "Wall time: 5min 6s\n"
          ],
          "name": "stdout"
        },
        {
          "output_type": "execute_result",
          "data": {
            "text/plain": [
              "'Minors may only use the service under the supervision of an adult.4.2.'"
            ]
          },
          "metadata": {
            "tags": []
          },
          "execution_count": 31
        }
      ]
    },
    {
      "cell_type": "code",
      "metadata": {
        "id": "iwl0d1XqhhNI",
        "colab_type": "code",
        "colab": {}
      },
      "source": [
        "def read_terms():\n",
        "    context = input('Please provide Terms:  ')\n",
        "    question = input('What would you like to know ?:')\n",
        "    print(nlp_qa(context=context, question=question))"
      ],
      "execution_count": 0,
      "outputs": []
    },
    {
      "cell_type": "code",
      "metadata": {
        "id": "OCeUMxfYhhPu",
        "colab_type": "code",
        "outputId": "f5e3ca72-9afc-42e8-c218-c562d0b40b84",
        "colab": {
          "base_uri": "https://localhost:8080/",
          "height": 88
        }
      },
      "source": [
        "read_terms()"
      ],
      "execution_count": 0,
      "outputs": [
        {
          "output_type": "stream",
          "text": [
            "Please provide Terms:  3.4. Cancellation. You can cancel your Netflix membership at any time, and you will continue to have access to the Netflix service through the end of your billing period. To the extent permitted by the applicable law, payments are non-refundable and we do not provide refunds or credits for any partial membership periods or unwatched Netflix content. To cancel, go to the \"Account\" page and follow the instructions for cancellation. If you cancel your membership, your account will automatically close at the end of your current billing period. To see when your account will close, click \"Billing details\" on the \"Account\" page. If you signed up for Netflix using your account with a third party as a Payment Method and wish to cancel your Netflix membership, you may need to do so through such third party, for example by visiting your account with the applicable third party and turning off auto-renew, or unsubscribing from the Netflix service through that third party. You may also find billing information about your Netflix membership by visiting your account with the applicable third party.\n",
            "What would you like to know ?:When can I cancel Netflix?\n",
            "{'score': 0.825408740987708, 'start': 58, 'end': 70, 'answer': 'at any time,'}\n"
          ],
          "name": "stdout"
        }
      ]
    },
    {
      "cell_type": "code",
      "metadata": {
        "id": "D0RcyjZmhheM",
        "colab_type": "code",
        "outputId": "08953daa-9a4a-4add-e435-9a7604a66398",
        "colab": {
          "base_uri": "https://localhost:8080/",
          "height": 88
        }
      },
      "source": [
        "read_terms()"
      ],
      "execution_count": 0,
      "outputs": [
        {
          "output_type": "stream",
          "text": [
            "Please provide Terms:  3.4. Cancellation. You can cancel your Netflix membership at any time, and you will continue to have access to the Netflix service through the end of your billing period. To the extent permitted by the applicable law, payments are non-refundable and we do not provide refunds or credits for any partial membership periods or unwatched Netflix content. To cancel, go to the \"Account\" page and follow the instructions for cancellation. If you cancel your membership, your account will automatically close at the end of your current billing period. To see when your account will close, click \"Billing details\" on the \"Account\" page. If you signed up for Netflix using your account with a third party as a Payment Method and wish to cancel your Netflix membership, you may need to do so through such third party, for example by visiting your account with the applicable third party and turning off auto-renew, or unsubscribing from the Netflix service through that third party. You may also find billing information about your Netflix membership by visiting your account with the applicable third party.\n",
            "What would you like to know ?:When should I cancel Netlifx?\n",
            "{'score': 4.3589712241589185e-05, 'start': 58, 'end': 70, 'answer': 'at any time,'}\n"
          ],
          "name": "stdout"
        }
      ]
    },
    {
      "cell_type": "code",
      "metadata": {
        "id": "w3W3rnT2hhgj",
        "colab_type": "code",
        "colab": {}
      },
      "source": [
        "with open('twitter.txt') as f:\n",
        "    context_twitter = f.read().replace('\\n','') "
      ],
      "execution_count": 0,
      "outputs": []
    },
    {
      "cell_type": "code",
      "metadata": {
        "id": "R5jn3JrXt0ap",
        "colab_type": "code",
        "outputId": "993353bd-e29b-4614-aaf9-b75af484a97d",
        "colab": {
          "base_uri": "https://localhost:8080/",
          "height": 68
        }
      },
      "source": [
        "%%time\n",
        "nlp_qa(context=context_twitter, question='How old should I be to use Twitter?')['answer']"
      ],
      "execution_count": 0,
      "outputs": [
        {
          "output_type": "stream",
          "text": [
            "CPU times: user 1min 3s, sys: 597 ms, total: 1min 3s\n",
            "Wall time: 1min 4s\n"
          ],
          "name": "stdout"
        },
        {
          "output_type": "execute_result",
          "data": {
            "text/plain": [
              "'13 years old,'"
            ]
          },
          "metadata": {
            "tags": []
          },
          "execution_count": 13
        }
      ]
    },
    {
      "cell_type": "code",
      "metadata": {
        "id": "etVjNwG2t0dO",
        "colab_type": "code",
        "outputId": "2e864528-8b83-4836-bc5e-f7ece2b29fcd",
        "colab": {
          "base_uri": "https://localhost:8080/",
          "height": 68
        }
      },
      "source": [
        "%%time\n",
        "nlp_qa(context=context_twitter, question='Can I use Twitter if I am not older than 13?')['answer']"
      ],
      "execution_count": 0,
      "outputs": [
        {
          "output_type": "stream",
          "text": [
            "CPU times: user 1min 36s, sys: 585 ms, total: 1min 37s\n",
            "Wall time: 1min 38s\n"
          ],
          "name": "stdout"
        },
        {
          "output_type": "execute_result",
          "data": {
            "text/plain": [
              "'you must be at least 13 years old,'"
            ]
          },
          "metadata": {
            "tags": []
          },
          "execution_count": 11
        }
      ]
    },
    {
      "cell_type": "code",
      "metadata": {
        "id": "hRea4XCjt0gA",
        "colab_type": "code",
        "colab": {}
      },
      "source": [
        ""
      ],
      "execution_count": 0,
      "outputs": []
    }
  ]
}